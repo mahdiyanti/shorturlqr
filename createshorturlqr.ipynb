{
 "cells": [
  {
   "cell_type": "code",
   "execution_count": null,
   "id": "4d3da6c4-a60b-412f-aef5-723db39b7f1b",
   "metadata": {},
   "outputs": [],
   "source": [
    "pip install pyshorteners\n",
    "pip install qrcode"
   ]
  },
  {
   "cell_type": "code",
   "execution_count": 1,
   "id": "9fe82f73-0eaa-42aa-9c89-93b20efd3c28",
   "metadata": {},
   "outputs": [
    {
     "name": "stdout",
     "output_type": "stream",
     "text": [
      "The Shortened URL is: https://tinyurl.com/2974yhz4\n",
      "The QR Code is: \n"
     ]
    },
    {
     "data": {
      "image/png": "[encoded data removed]",
      "text/plain": [
       "<qrcode.image.pil.PilImage at 0x1ebd650b460>"
      ]
     },
     "execution_count": 1,
     "metadata": {},
     "output_type": "execute_result"
    }
   ],
   "source": [
    "# Importing library\n",
    "import pyshorteners\n",
    "long_url = 'https://www.canva.com/design/DAFlqGiMPE4/wt1w2l7oavbS6R_2hw8VoA/edit'\n",
    " \n",
    "#TinyURL shortener service\n",
    "type_tiny = pyshorteners.Shortener()\n",
    "short_url = type_tiny.tinyurl.short(long_url)\n",
    " \n",
    "print(\"The Shortened URL is: \" + short_url)\n",
    "\n",
    "# Importing library\n",
    "import qrcode\n",
    "\n",
    "# Data to be encoded\n",
    "data = long_url\n",
    "\n",
    "# Encoding data using make() function\n",
    "img = qrcode.make(data)\n",
    "\n",
    "# Saving as an image file\n",
    "img.save('MyQRCode1.png')\n",
    "\n",
    "print(\"The QR Code is: \")\n",
    "img"
   ]
  },
  {
   "cell_type": "code",
   "execution_count": null,
   "id": "0e0787f1-c7c4-418f-ba7c-ce95b8df8774",
   "metadata": {},
   "outputs": [],
   "source": []
  }
 ],
 "metadata": {
  "kernelspec": {
   "display_name": "Python 3 (ipykernel)",
   "language": "python",
   "name": "python3"
  },
  "language_info": {
   "codemirror_mode": {
    "name": "ipython",
    "version": 3
   },
   "file_extension": ".py",
   "mimetype": "text/x-python",
   "name": "python",
   "nbconvert_exporter": "python",
   "pygments_lexer": "ipython3",
   "version": "3.10.9"
  }
 },
 "nbformat": 4,
 "nbformat_minor": 5
}
